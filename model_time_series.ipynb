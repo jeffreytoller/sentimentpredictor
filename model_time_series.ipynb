{
 "cells": [
  {
   "cell_type": "code",
   "execution_count": 446,
   "metadata": {},
   "outputs": [],
   "source": [
    "import matplotlib.pyplot as plt\n",
    "import numpy as np\n",
    "import pandas as pd\n",
    "import seaborn as sns\n",
    "from datetime import datetime\n",
    "from statsmodels.tsa.statespace.sarimax import SARIMAX\n",
    "df = pd.read_pickle('model_df.pkl')"
   ]
  },
  {
   "cell_type": "code",
   "execution_count": 447,
   "metadata": {},
   "outputs": [],
   "source": [
    "cutoff = datetime.strptime('2014-03-01','%Y-%m-%d')\n"
   ]
  },
  {
   "cell_type": "code",
   "execution_count": 448,
   "metadata": {},
   "outputs": [
    {
     "data": {
      "text/plain": [
       "52642.28888888889"
      ]
     },
     "execution_count": 448,
     "metadata": {},
     "output_type": "execute_result"
    }
   ],
   "source": [
    "final_GDP = df.GDP_interp.loc[df.chart_date==cutoff].values[0]\n",
    "final_GDP"
   ]
  },
  {
   "cell_type": "code",
   "execution_count": 449,
   "metadata": {},
   "outputs": [],
   "source": [
    "\n",
    "df['GDP_interp'] = df.GDP_interp.diff()\n",
    "df['sentiment'] = df.sentiment.diff()"
   ]
  },
  {
   "cell_type": "code",
   "execution_count": 450,
   "metadata": {},
   "outputs": [],
   "source": [
    "df['sentiment_L' + str(19)] = df.sentiment.shift(19,fill_value=0)\n",
    "df.dropna(inplace=True)"
   ]
  },
  {
   "cell_type": "code",
   "execution_count": 451,
   "metadata": {},
   "outputs": [],
   "source": [
    "test_df = df.loc[df.chart_date > cutoff]\n",
    "train_df = df.loc[df.chart_date <= cutoff]\n",
    "X_train = train_df.sentiment_L19\n",
    "X_test = test_df.sentiment_L19\n",
    "y_train = pd.DataFrame(train_df.GDP_interp)\n",
    "y_test = pd.DataFrame(test_df.GDP_interp)"
   ]
  },
  {
   "cell_type": "code",
   "execution_count": 452,
   "metadata": {},
   "outputs": [],
   "source": [
    "lags = 36 # number of lags for endogenous variable\n",
    "order = ([3,6,9,12,15,18,21,24],1,[3,6,9,12,15,18,21,24])\n",
    "seasonal = True\n",
    "period = 4"
   ]
  },
  {
   "cell_type": "code",
   "execution_count": 453,
   "metadata": {},
   "outputs": [
    {
     "name": "stderr",
     "output_type": "stream",
     "text": [
      "c:\\Users\\kapta\\anaconda3\\lib\\site-packages\\statsmodels\\tsa\\base\\tsa_model.py:471: ValueWarning: A date index has been provided, but it has no associated frequency information and so will be ignored when e.g. forecasting.\n",
      "  self._init_dates(dates, freq)\n",
      "c:\\Users\\kapta\\anaconda3\\lib\\site-packages\\statsmodels\\tsa\\base\\tsa_model.py:471: ValueWarning: A date index has been provided, but it has no associated frequency information and so will be ignored when e.g. forecasting.\n",
      "  self._init_dates(dates, freq)\n"
     ]
    }
   ],
   "source": [
    "model = SARIMAX(\n",
    "        endog = y_train,\n",
    "        lags=lags,\n",
    "        exog=X_train,\n",
    "        order=order,\n",
    "        seasonal=seasonal,\n",
    "        period=period)"
   ]
  },
  {
   "cell_type": "code",
   "execution_count": 454,
   "metadata": {},
   "outputs": [
    {
     "name": "stderr",
     "output_type": "stream",
     "text": [
      "c:\\Users\\kapta\\anaconda3\\lib\\site-packages\\statsmodels\\base\\model.py:604: ConvergenceWarning: Maximum Likelihood optimization failed to converge. Check mle_retvals\n",
      "  warnings.warn(\"Maximum Likelihood optimization failed to \"\n"
     ]
    }
   ],
   "source": [
    "model_fit = model.fit(maxiter=200)"
   ]
  },
  {
   "cell_type": "code",
   "execution_count": 455,
   "metadata": {},
   "outputs": [
    {
     "data": {
      "text/plain": [
       "sentiment_L19      57.808258\n",
       "ar.L3              -0.708808\n",
       "ar.L6              -0.564603\n",
       "ar.L9              -0.569172\n",
       "ar.L12             -0.606137\n",
       "ar.L15             -0.537348\n",
       "ar.L18             -0.697746\n",
       "ar.L21             -0.015876\n",
       "ar.L24              0.041609\n",
       "ma.L3               0.088015\n",
       "ma.L6               0.168846\n",
       "ma.L9               0.114568\n",
       "ma.L12              0.185758\n",
       "ma.L15             -0.026926\n",
       "ma.L18              0.338185\n",
       "ma.L21             -0.654594\n",
       "ma.L24             -0.323093\n",
       "sigma2           2305.116032\n",
       "dtype: float64"
      ]
     },
     "execution_count": 455,
     "metadata": {},
     "output_type": "execute_result"
    }
   ],
   "source": [
    "model_fit.params"
   ]
  },
  {
   "cell_type": "code",
   "execution_count": 456,
   "metadata": {},
   "outputs": [],
   "source": [
    "exog = X_test"
   ]
  },
  {
   "cell_type": "code",
   "execution_count": 487,
   "metadata": {},
   "outputs": [
    {
     "data": {
      "text/html": [
       "<div>\n",
       "<style scoped>\n",
       "    .dataframe tbody tr th:only-of-type {\n",
       "        vertical-align: middle;\n",
       "    }\n",
       "\n",
       "    .dataframe tbody tr th {\n",
       "        vertical-align: top;\n",
       "    }\n",
       "\n",
       "    .dataframe thead th {\n",
       "        text-align: right;\n",
       "    }\n",
       "</style>\n",
       "<table border=\"1\" class=\"dataframe\">\n",
       "  <thead>\n",
       "    <tr style=\"text-align: right;\">\n",
       "      <th></th>\n",
       "      <th>predicted_mean</th>\n",
       "    </tr>\n",
       "  </thead>\n",
       "  <tbody>\n",
       "    <tr>\n",
       "      <th>0</th>\n",
       "      <td>0.000000</td>\n",
       "    </tr>\n",
       "    <tr>\n",
       "      <th>1</th>\n",
       "      <td>104.347826</td>\n",
       "    </tr>\n",
       "    <tr>\n",
       "      <th>2</th>\n",
       "      <td>87.271739</td>\n",
       "    </tr>\n",
       "    <tr>\n",
       "      <th>3</th>\n",
       "      <td>84.277013</td>\n",
       "    </tr>\n",
       "    <tr>\n",
       "      <th>4</th>\n",
       "      <td>94.977114</td>\n",
       "    </tr>\n",
       "    <tr>\n",
       "      <th>...</th>\n",
       "      <td>...</td>\n",
       "    </tr>\n",
       "    <tr>\n",
       "      <th>660</th>\n",
       "      <td>79.377840</td>\n",
       "    </tr>\n",
       "    <tr>\n",
       "      <th>661</th>\n",
       "      <td>-96.073017</td>\n",
       "    </tr>\n",
       "    <tr>\n",
       "      <th>662</th>\n",
       "      <td>-99.220550</td>\n",
       "    </tr>\n",
       "    <tr>\n",
       "      <th>663</th>\n",
       "      <td>21.218520</td>\n",
       "    </tr>\n",
       "    <tr>\n",
       "      <th>664</th>\n",
       "      <td>194.759202</td>\n",
       "    </tr>\n",
       "  </tbody>\n",
       "</table>\n",
       "<p>665 rows × 1 columns</p>\n",
       "</div>"
      ],
      "text/plain": [
       "     predicted_mean\n",
       "0          0.000000\n",
       "1        104.347826\n",
       "2         87.271739\n",
       "3         84.277013\n",
       "4         94.977114\n",
       "..              ...\n",
       "660       79.377840\n",
       "661      -96.073017\n",
       "662      -99.220550\n",
       "663       21.218520\n",
       "664      194.759202\n",
       "\n",
       "[665 rows x 1 columns]"
      ]
     },
     "execution_count": 487,
     "metadata": {},
     "output_type": "execute_result"
    }
   ],
   "source": [
    "pd.DataFrame(model_fit.forecasts[0],columns=['predicted_mean'])"
   ]
  },
  {
   "cell_type": "code",
   "execution_count": 494,
   "metadata": {},
   "outputs": [
    {
     "name": "stderr",
     "output_type": "stream",
     "text": [
      "c:\\Users\\kapta\\anaconda3\\lib\\site-packages\\statsmodels\\tsa\\base\\tsa_model.py:834: ValueWarning: No supported index is available. Prediction results will be given with an integer index beginning at `start`.\n",
      "  return get_prediction_index(\n"
     ]
    },
    {
     "data": {
      "text/html": [
       "<div>\n",
       "<style scoped>\n",
       "    .dataframe tbody tr th:only-of-type {\n",
       "        vertical-align: middle;\n",
       "    }\n",
       "\n",
       "    .dataframe tbody tr th {\n",
       "        vertical-align: top;\n",
       "    }\n",
       "\n",
       "    .dataframe thead th {\n",
       "        text-align: right;\n",
       "    }\n",
       "</style>\n",
       "<table border=\"1\" class=\"dataframe\">\n",
       "  <thead>\n",
       "    <tr style=\"text-align: right;\">\n",
       "      <th></th>\n",
       "      <th>0</th>\n",
       "    </tr>\n",
       "  </thead>\n",
       "  <tbody>\n",
       "    <tr>\n",
       "      <th>0</th>\n",
       "      <td>0.000000</td>\n",
       "    </tr>\n",
       "    <tr>\n",
       "      <th>1</th>\n",
       "      <td>104.347826</td>\n",
       "    </tr>\n",
       "    <tr>\n",
       "      <th>2</th>\n",
       "      <td>87.271739</td>\n",
       "    </tr>\n",
       "    <tr>\n",
       "      <th>3</th>\n",
       "      <td>84.277013</td>\n",
       "    </tr>\n",
       "    <tr>\n",
       "      <th>4</th>\n",
       "      <td>94.977114</td>\n",
       "    </tr>\n",
       "    <tr>\n",
       "      <th>...</th>\n",
       "      <td>...</td>\n",
       "    </tr>\n",
       "    <tr>\n",
       "      <th>764</th>\n",
       "      <td>44.159492</td>\n",
       "    </tr>\n",
       "    <tr>\n",
       "      <th>765</th>\n",
       "      <td>28.252437</td>\n",
       "    </tr>\n",
       "    <tr>\n",
       "      <th>766</th>\n",
       "      <td>40.498352</td>\n",
       "    </tr>\n",
       "    <tr>\n",
       "      <th>767</th>\n",
       "      <td>32.570379</td>\n",
       "    </tr>\n",
       "    <tr>\n",
       "      <th>768</th>\n",
       "      <td>56.581694</td>\n",
       "    </tr>\n",
       "  </tbody>\n",
       "</table>\n",
       "<p>769 rows × 1 columns</p>\n",
       "</div>"
      ],
      "text/plain": [
       "              0\n",
       "0      0.000000\n",
       "1    104.347826\n",
       "2     87.271739\n",
       "3     84.277013\n",
       "4     94.977114\n",
       "..          ...\n",
       "764   44.159492\n",
       "765   28.252437\n",
       "766   40.498352\n",
       "767   32.570379\n",
       "768   56.581694\n",
       "\n",
       "[769 rows x 1 columns]"
      ]
     },
     "execution_count": 494,
     "metadata": {},
     "output_type": "execute_result"
    }
   ],
   "source": [
    "y_pred = model_fit.forecast(len(exog),exog=exog)\n",
    "y_pred = pd.concat([pd.DataFrame(model_fit.forecasts[0]),y_pred])\n",
    "y_pred"
   ]
  },
  {
   "cell_type": "code",
   "execution_count": 458,
   "metadata": {},
   "outputs": [],
   "source": [
    "ans_df = pd.DataFrame(y_pred).cumsum()+final_GDP\n",
    "ans_df['chart_date'] = df.chart_date.iloc[len(X_train):len(df)-1]\n"
   ]
  },
  {
   "cell_type": "code",
   "execution_count": 499,
   "metadata": {},
   "outputs": [
    {
     "data": {
      "text/html": [
       "<div>\n",
       "<style scoped>\n",
       "    .dataframe tbody tr th:only-of-type {\n",
       "        vertical-align: middle;\n",
       "    }\n",
       "\n",
       "    .dataframe tbody tr th {\n",
       "        vertical-align: top;\n",
       "    }\n",
       "\n",
       "    .dataframe thead th {\n",
       "        text-align: right;\n",
       "    }\n",
       "</style>\n",
       "<table border=\"1\" class=\"dataframe\">\n",
       "  <thead>\n",
       "    <tr style=\"text-align: right;\">\n",
       "      <th></th>\n",
       "      <th>sentiment</th>\n",
       "      <th>GDP_interp</th>\n",
       "      <th>chart_date</th>\n",
       "    </tr>\n",
       "    <tr>\n",
       "      <th>date</th>\n",
       "      <th></th>\n",
       "      <th></th>\n",
       "      <th></th>\n",
       "    </tr>\n",
       "  </thead>\n",
       "  <tbody>\n",
       "    <tr>\n",
       "      <th>1958-09-01</th>\n",
       "      <td>0.169755</td>\n",
       "      <td>17381.652174</td>\n",
       "      <td>1958-09-01</td>\n",
       "    </tr>\n",
       "    <tr>\n",
       "      <th>1958-10-01</th>\n",
       "      <td>0.196548</td>\n",
       "      <td>17486.000000</td>\n",
       "      <td>1958-10-01</td>\n",
       "    </tr>\n",
       "    <tr>\n",
       "      <th>1958-11-01</th>\n",
       "      <td>0.204485</td>\n",
       "      <td>17573.271739</td>\n",
       "      <td>1958-11-01</td>\n",
       "    </tr>\n",
       "    <tr>\n",
       "      <th>1958-12-01</th>\n",
       "      <td>0.177540</td>\n",
       "      <td>17657.728261</td>\n",
       "      <td>1958-12-01</td>\n",
       "    </tr>\n",
       "    <tr>\n",
       "      <th>1959-01-01</th>\n",
       "      <td>0.186635</td>\n",
       "      <td>17745.000000</td>\n",
       "      <td>1959-01-01</td>\n",
       "    </tr>\n",
       "    <tr>\n",
       "      <th>...</th>\n",
       "      <td>...</td>\n",
       "      <td>...</td>\n",
       "      <td>...</td>\n",
       "    </tr>\n",
       "    <tr>\n",
       "      <th>2022-07-01</th>\n",
       "      <td>0.125863</td>\n",
       "      <td>60082.000000</td>\n",
       "      <td>2022-07-01</td>\n",
       "    </tr>\n",
       "    <tr>\n",
       "      <th>2022-08-01</th>\n",
       "      <td>0.045380</td>\n",
       "      <td>60082.000000</td>\n",
       "      <td>2022-08-01</td>\n",
       "    </tr>\n",
       "    <tr>\n",
       "      <th>2022-09-01</th>\n",
       "      <td>0.012304</td>\n",
       "      <td>60082.000000</td>\n",
       "      <td>2022-09-01</td>\n",
       "    </tr>\n",
       "    <tr>\n",
       "      <th>2022-10-01</th>\n",
       "      <td>-0.001674</td>\n",
       "      <td>60082.000000</td>\n",
       "      <td>2022-10-01</td>\n",
       "    </tr>\n",
       "    <tr>\n",
       "      <th>2022-11-01</th>\n",
       "      <td>0.030167</td>\n",
       "      <td>60082.000000</td>\n",
       "      <td>2022-11-01</td>\n",
       "    </tr>\n",
       "  </tbody>\n",
       "</table>\n",
       "<p>771 rows × 3 columns</p>\n",
       "</div>"
      ],
      "text/plain": [
       "            sentiment    GDP_interp chart_date\n",
       "date                                          \n",
       "1958-09-01   0.169755  17381.652174 1958-09-01\n",
       "1958-10-01   0.196548  17486.000000 1958-10-01\n",
       "1958-11-01   0.204485  17573.271739 1958-11-01\n",
       "1958-12-01   0.177540  17657.728261 1958-12-01\n",
       "1959-01-01   0.186635  17745.000000 1959-01-01\n",
       "...               ...           ...        ...\n",
       "2022-07-01   0.125863  60082.000000 2022-07-01\n",
       "2022-08-01   0.045380  60082.000000 2022-08-01\n",
       "2022-09-01   0.012304  60082.000000 2022-09-01\n",
       "2022-10-01  -0.001674  60082.000000 2022-10-01\n",
       "2022-11-01   0.030167  60082.000000 2022-11-01\n",
       "\n",
       "[771 rows x 3 columns]"
      ]
     },
     "execution_count": 499,
     "metadata": {},
     "output_type": "execute_result"
    }
   ],
   "source": [
    "og_df = pd.read_pickle('model_df.pkl')\n",
    "og_df"
   ]
  },
  {
   "cell_type": "code",
   "execution_count": 498,
   "metadata": {},
   "outputs": [
    {
     "data": {
      "text/html": [
       "<div>\n",
       "<style scoped>\n",
       "    .dataframe tbody tr th:only-of-type {\n",
       "        vertical-align: middle;\n",
       "    }\n",
       "\n",
       "    .dataframe tbody tr th {\n",
       "        vertical-align: top;\n",
       "    }\n",
       "\n",
       "    .dataframe thead th {\n",
       "        text-align: right;\n",
       "    }\n",
       "</style>\n",
       "<table border=\"1\" class=\"dataframe\">\n",
       "  <thead>\n",
       "    <tr style=\"text-align: right;\">\n",
       "      <th></th>\n",
       "      <th>sentiment</th>\n",
       "      <th>GDP_interp</th>\n",
       "      <th>chart_date</th>\n",
       "      <th>sentiment_L19</th>\n",
       "      <th>GDP_predict</th>\n",
       "    </tr>\n",
       "    <tr>\n",
       "      <th>date</th>\n",
       "      <th></th>\n",
       "      <th></th>\n",
       "      <th></th>\n",
       "      <th></th>\n",
       "      <th></th>\n",
       "    </tr>\n",
       "  </thead>\n",
       "  <tbody>\n",
       "    <tr>\n",
       "      <th>1958-10-01</th>\n",
       "      <td>0.026793</td>\n",
       "      <td>104.347826</td>\n",
       "      <td>1958-10-01</td>\n",
       "      <td>0.000000</td>\n",
       "      <td>0.000000</td>\n",
       "    </tr>\n",
       "    <tr>\n",
       "      <th>1958-11-01</th>\n",
       "      <td>0.007938</td>\n",
       "      <td>87.271739</td>\n",
       "      <td>1958-11-01</td>\n",
       "      <td>0.000000</td>\n",
       "      <td>104.347826</td>\n",
       "    </tr>\n",
       "    <tr>\n",
       "      <th>1958-12-01</th>\n",
       "      <td>-0.026945</td>\n",
       "      <td>84.456522</td>\n",
       "      <td>1958-12-01</td>\n",
       "      <td>0.000000</td>\n",
       "      <td>191.619565</td>\n",
       "    </tr>\n",
       "    <tr>\n",
       "      <th>1959-01-01</th>\n",
       "      <td>0.009095</td>\n",
       "      <td>87.271739</td>\n",
       "      <td>1959-01-01</td>\n",
       "      <td>0.000000</td>\n",
       "      <td>275.896578</td>\n",
       "    </tr>\n",
       "    <tr>\n",
       "      <th>1959-02-01</th>\n",
       "      <td>-0.000868</td>\n",
       "      <td>113.666667</td>\n",
       "      <td>1959-02-01</td>\n",
       "      <td>0.000000</td>\n",
       "      <td>370.873692</td>\n",
       "    </tr>\n",
       "    <tr>\n",
       "      <th>...</th>\n",
       "      <td>...</td>\n",
       "      <td>...</td>\n",
       "      <td>...</td>\n",
       "      <td>...</td>\n",
       "      <td>...</td>\n",
       "    </tr>\n",
       "    <tr>\n",
       "      <th>2022-07-01</th>\n",
       "      <td>0.236422</td>\n",
       "      <td>107.472527</td>\n",
       "      <td>2022-07-01</td>\n",
       "      <td>0.004151</td>\n",
       "      <td>40475.857234</td>\n",
       "    </tr>\n",
       "    <tr>\n",
       "      <th>2022-08-01</th>\n",
       "      <td>-0.080484</td>\n",
       "      <td>0.000000</td>\n",
       "      <td>2022-08-01</td>\n",
       "      <td>-0.084286</td>\n",
       "      <td>40504.109671</td>\n",
       "    </tr>\n",
       "    <tr>\n",
       "      <th>2022-09-01</th>\n",
       "      <td>-0.033076</td>\n",
       "      <td>0.000000</td>\n",
       "      <td>2022-09-01</td>\n",
       "      <td>0.109437</td>\n",
       "      <td>40544.608023</td>\n",
       "    </tr>\n",
       "    <tr>\n",
       "      <th>2022-10-01</th>\n",
       "      <td>-0.013978</td>\n",
       "      <td>0.000000</td>\n",
       "      <td>2022-10-01</td>\n",
       "      <td>-0.063709</td>\n",
       "      <td>40577.178402</td>\n",
       "    </tr>\n",
       "    <tr>\n",
       "      <th>2022-11-01</th>\n",
       "      <td>0.031841</td>\n",
       "      <td>0.000000</td>\n",
       "      <td>2022-11-01</td>\n",
       "      <td>0.049124</td>\n",
       "      <td>40633.760095</td>\n",
       "    </tr>\n",
       "  </tbody>\n",
       "</table>\n",
       "<p>769 rows × 5 columns</p>\n",
       "</div>"
      ],
      "text/plain": [
       "            sentiment  GDP_interp chart_date  sentiment_L19   GDP_predict\n",
       "date                                                                     \n",
       "1958-10-01   0.026793  104.347826 1958-10-01       0.000000      0.000000\n",
       "1958-11-01   0.007938   87.271739 1958-11-01       0.000000    104.347826\n",
       "1958-12-01  -0.026945   84.456522 1958-12-01       0.000000    191.619565\n",
       "1959-01-01   0.009095   87.271739 1959-01-01       0.000000    275.896578\n",
       "1959-02-01  -0.000868  113.666667 1959-02-01       0.000000    370.873692\n",
       "...               ...         ...        ...            ...           ...\n",
       "2022-07-01   0.236422  107.472527 2022-07-01       0.004151  40475.857234\n",
       "2022-08-01  -0.080484    0.000000 2022-08-01      -0.084286  40504.109671\n",
       "2022-09-01  -0.033076    0.000000 2022-09-01       0.109437  40544.608023\n",
       "2022-10-01  -0.013978    0.000000 2022-10-01      -0.063709  40577.178402\n",
       "2022-11-01   0.031841    0.000000 2022-11-01       0.049124  40633.760095\n",
       "\n",
       "[769 rows x 5 columns]"
      ]
     },
     "execution_count": 498,
     "metadata": {},
     "output_type": "execute_result"
    }
   ],
   "source": [
    "df['GDP_predict'] = y_pred.values\n",
    "df['GDP_predict'] = df.GDP_predict.cumsum()\n",
    "df"
   ]
  },
  {
   "cell_type": "code",
   "execution_count": 460,
   "metadata": {},
   "outputs": [
    {
     "data": {
      "text/html": [
       "<div>\n",
       "<style scoped>\n",
       "    .dataframe tbody tr th:only-of-type {\n",
       "        vertical-align: middle;\n",
       "    }\n",
       "\n",
       "    .dataframe tbody tr th {\n",
       "        vertical-align: top;\n",
       "    }\n",
       "\n",
       "    .dataframe thead th {\n",
       "        text-align: right;\n",
       "    }\n",
       "</style>\n",
       "<table border=\"1\" class=\"dataframe\">\n",
       "  <thead>\n",
       "    <tr style=\"text-align: right;\">\n",
       "      <th></th>\n",
       "      <th>predicted_mean</th>\n",
       "      <th>chart_date</th>\n",
       "    </tr>\n",
       "  </thead>\n",
       "  <tbody>\n",
       "    <tr>\n",
       "      <th>665</th>\n",
       "      <td>52814.277974</td>\n",
       "      <td>2014-04-01</td>\n",
       "    </tr>\n",
       "    <tr>\n",
       "      <th>666</th>\n",
       "      <td>52884.731381</td>\n",
       "      <td>2014-05-01</td>\n",
       "    </tr>\n",
       "    <tr>\n",
       "      <th>667</th>\n",
       "      <td>52966.047985</td>\n",
       "      <td>2014-06-01</td>\n",
       "    </tr>\n",
       "    <tr>\n",
       "      <th>668</th>\n",
       "      <td>53057.933788</td>\n",
       "      <td>2014-07-01</td>\n",
       "    </tr>\n",
       "    <tr>\n",
       "      <th>669</th>\n",
       "      <td>53124.391286</td>\n",
       "      <td>2014-08-01</td>\n",
       "    </tr>\n",
       "    <tr>\n",
       "      <th>...</th>\n",
       "      <td>...</td>\n",
       "      <td>...</td>\n",
       "    </tr>\n",
       "    <tr>\n",
       "      <th>764</th>\n",
       "      <td>57731.145773</td>\n",
       "      <td>2022-07-01</td>\n",
       "    </tr>\n",
       "    <tr>\n",
       "      <th>765</th>\n",
       "      <td>57759.398209</td>\n",
       "      <td>2022-08-01</td>\n",
       "    </tr>\n",
       "    <tr>\n",
       "      <th>766</th>\n",
       "      <td>57799.896562</td>\n",
       "      <td>2022-09-01</td>\n",
       "    </tr>\n",
       "    <tr>\n",
       "      <th>767</th>\n",
       "      <td>57832.466940</td>\n",
       "      <td>2022-10-01</td>\n",
       "    </tr>\n",
       "    <tr>\n",
       "      <th>768</th>\n",
       "      <td>57889.048634</td>\n",
       "      <td>2022-11-01</td>\n",
       "    </tr>\n",
       "  </tbody>\n",
       "</table>\n",
       "<p>104 rows × 2 columns</p>\n",
       "</div>"
      ],
      "text/plain": [
       "     predicted_mean chart_date\n",
       "665    52814.277974 2014-04-01\n",
       "666    52884.731381 2014-05-01\n",
       "667    52966.047985 2014-06-01\n",
       "668    53057.933788 2014-07-01\n",
       "669    53124.391286 2014-08-01\n",
       "..              ...        ...\n",
       "764    57731.145773 2022-07-01\n",
       "765    57759.398209 2022-08-01\n",
       "766    57799.896562 2022-09-01\n",
       "767    57832.466940 2022-10-01\n",
       "768    57889.048634 2022-11-01\n",
       "\n",
       "[104 rows x 2 columns]"
      ]
     },
     "execution_count": 460,
     "metadata": {},
     "output_type": "execute_result"
    }
   ],
   "source": [
    "ans_df = pd.DataFrame(y_pred).cumsum()+final_GDP\n",
    "ans_df['chart_date'] = df.tail(len(X_test)).chart_date.values\n",
    "ans_df"
   ]
  },
  {
   "cell_type": "code",
   "execution_count": 461,
   "metadata": {},
   "outputs": [],
   "source": [
    "og_df = pd.read_pickle('model_df.pkl')"
   ]
  },
  {
   "cell_type": "code",
   "execution_count": 462,
   "metadata": {},
   "outputs": [
    {
     "data": {
      "text/html": [
       "<div>\n",
       "<style scoped>\n",
       "    .dataframe tbody tr th:only-of-type {\n",
       "        vertical-align: middle;\n",
       "    }\n",
       "\n",
       "    .dataframe tbody tr th {\n",
       "        vertical-align: top;\n",
       "    }\n",
       "\n",
       "    .dataframe thead th {\n",
       "        text-align: right;\n",
       "    }\n",
       "</style>\n",
       "<table border=\"1\" class=\"dataframe\">\n",
       "  <thead>\n",
       "    <tr style=\"text-align: right;\">\n",
       "      <th></th>\n",
       "      <th>sentiment</th>\n",
       "      <th>GDP_interp</th>\n",
       "      <th>chart_date</th>\n",
       "      <th>predicted_mean</th>\n",
       "    </tr>\n",
       "    <tr>\n",
       "      <th>chart_date</th>\n",
       "      <th></th>\n",
       "      <th></th>\n",
       "      <th></th>\n",
       "      <th></th>\n",
       "    </tr>\n",
       "  </thead>\n",
       "  <tbody>\n",
       "    <tr>\n",
       "      <th>1958-09-01</th>\n",
       "      <td>0.169755</td>\n",
       "      <td>17381.652174</td>\n",
       "      <td>1958-09-01</td>\n",
       "      <td>NaN</td>\n",
       "    </tr>\n",
       "    <tr>\n",
       "      <th>1958-10-01</th>\n",
       "      <td>0.196548</td>\n",
       "      <td>17486.000000</td>\n",
       "      <td>1958-10-01</td>\n",
       "      <td>NaN</td>\n",
       "    </tr>\n",
       "    <tr>\n",
       "      <th>1958-11-01</th>\n",
       "      <td>0.204485</td>\n",
       "      <td>17573.271739</td>\n",
       "      <td>1958-11-01</td>\n",
       "      <td>NaN</td>\n",
       "    </tr>\n",
       "    <tr>\n",
       "      <th>1958-12-01</th>\n",
       "      <td>0.177540</td>\n",
       "      <td>17657.728261</td>\n",
       "      <td>1958-12-01</td>\n",
       "      <td>NaN</td>\n",
       "    </tr>\n",
       "    <tr>\n",
       "      <th>1959-01-01</th>\n",
       "      <td>0.186635</td>\n",
       "      <td>17745.000000</td>\n",
       "      <td>1959-01-01</td>\n",
       "      <td>NaN</td>\n",
       "    </tr>\n",
       "    <tr>\n",
       "      <th>...</th>\n",
       "      <td>...</td>\n",
       "      <td>...</td>\n",
       "      <td>...</td>\n",
       "      <td>...</td>\n",
       "    </tr>\n",
       "    <tr>\n",
       "      <th>2022-07-01</th>\n",
       "      <td>0.125863</td>\n",
       "      <td>60082.000000</td>\n",
       "      <td>2022-07-01</td>\n",
       "      <td>57731.145773</td>\n",
       "    </tr>\n",
       "    <tr>\n",
       "      <th>2022-08-01</th>\n",
       "      <td>0.045380</td>\n",
       "      <td>60082.000000</td>\n",
       "      <td>2022-08-01</td>\n",
       "      <td>57759.398209</td>\n",
       "    </tr>\n",
       "    <tr>\n",
       "      <th>2022-09-01</th>\n",
       "      <td>0.012304</td>\n",
       "      <td>60082.000000</td>\n",
       "      <td>2022-09-01</td>\n",
       "      <td>57799.896562</td>\n",
       "    </tr>\n",
       "    <tr>\n",
       "      <th>2022-10-01</th>\n",
       "      <td>-0.001674</td>\n",
       "      <td>60082.000000</td>\n",
       "      <td>2022-10-01</td>\n",
       "      <td>57832.466940</td>\n",
       "    </tr>\n",
       "    <tr>\n",
       "      <th>2022-11-01</th>\n",
       "      <td>0.030167</td>\n",
       "      <td>60082.000000</td>\n",
       "      <td>2022-11-01</td>\n",
       "      <td>57889.048634</td>\n",
       "    </tr>\n",
       "  </tbody>\n",
       "</table>\n",
       "<p>771 rows × 4 columns</p>\n",
       "</div>"
      ],
      "text/plain": [
       "            sentiment    GDP_interp chart_date  predicted_mean\n",
       "chart_date                                                    \n",
       "1958-09-01   0.169755  17381.652174 1958-09-01             NaN\n",
       "1958-10-01   0.196548  17486.000000 1958-10-01             NaN\n",
       "1958-11-01   0.204485  17573.271739 1958-11-01             NaN\n",
       "1958-12-01   0.177540  17657.728261 1958-12-01             NaN\n",
       "1959-01-01   0.186635  17745.000000 1959-01-01             NaN\n",
       "...               ...           ...        ...             ...\n",
       "2022-07-01   0.125863  60082.000000 2022-07-01    57731.145773\n",
       "2022-08-01   0.045380  60082.000000 2022-08-01    57759.398209\n",
       "2022-09-01   0.012304  60082.000000 2022-09-01    57799.896562\n",
       "2022-10-01  -0.001674  60082.000000 2022-10-01    57832.466940\n",
       "2022-11-01   0.030167  60082.000000 2022-11-01    57889.048634\n",
       "\n",
       "[771 rows x 4 columns]"
      ]
     },
     "execution_count": 462,
     "metadata": {},
     "output_type": "execute_result"
    }
   ],
   "source": [
    "predict_df = og_df.merge(right=ans_df,how='outer',on='chart_date')\n",
    "predict_df.set_index('chart_date',drop=False)"
   ]
  },
  {
   "cell_type": "code",
   "execution_count": 474,
   "metadata": {},
   "outputs": [
    {
     "data": {
      "text/plain": [
       "<AxesSubplot:xlabel='chart_date'>"
      ]
     },
     "execution_count": 474,
     "metadata": {},
     "output_type": "execute_result"
    },
    {
     "data": {
      "image/png": "[encoded data removed]",
      "text/plain": [
       "<Figure size 1080x720 with 1 Axes>"
      ]
     },
     "metadata": {
      "needs_background": "light"
     },
     "output_type": "display_data"
    }
   ],
   "source": [
    "predict_df.plot(x='chart_date',y=['GDP_interp','predicted_mean'],figsize=(15,10))"
   ]
  },
  {
   "cell_type": "code",
   "execution_count": 472,
   "metadata": {},
   "outputs": [
    {
     "data": {
      "text/plain": [
       "<AxesSubplot:>"
      ]
     },
     "execution_count": 472,
     "metadata": {},
     "output_type": "execute_result"
    },
    {
     "data": {
      "image/png": "[encoded data removed]",
      "text/plain": [
       "<Figure size 1080x864 with 1 Axes>"
      ]
     },
     "metadata": {
      "needs_background": "light"
     },
     "output_type": "display_data"
    }
   ],
   "source": [
    "pd.DataFrame(predict_df.sentiment).rolling(window=12).mean().plot(figsize=(15,12),use_index=True)"
   ]
  },
  {
   "cell_type": "code",
   "execution_count": null,
   "metadata": {},
   "outputs": [],
   "source": []
  }
 ],
 "metadata": {
  "kernelspec": {
   "display_name": "Python 3.9.12 ('base')",
   "language": "python",
   "name": "python3"
  },
  "language_info": {
   "codemirror_mode": {
    "name": "ipython",
    "version": 3
   },
   "file_extension": ".py",
   "mimetype": "text/x-python",
   "name": "python",
   "nbconvert_exporter": "python",
   "pygments_lexer": "ipython3",
   "version": "3.9.12"
  },
  "orig_nbformat": 4,
  "vscode": {
   "interpreter": {
    "hash": "3f0653bd30555679cc60e5853b2204587bc8607f0666d413a468e937b04317b4"
   }
  }
 },
 "nbformat": 4,
 "nbformat_minor": 2
}
