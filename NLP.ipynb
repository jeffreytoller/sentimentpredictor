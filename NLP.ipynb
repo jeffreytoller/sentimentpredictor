{
 "cells": [
  {
   "cell_type": "code",
   "execution_count": 1,
   "metadata": {},
   "outputs": [],
   "source": [
    "import pandas as pd\n",
    "import os\n",
    "import pickle\n",
    "import numpy as np"
   ]
  },
  {
   "cell_type": "code",
   "execution_count": 2,
   "metadata": {},
   "outputs": [],
   "source": [
    "# df = pd.read_pickle('./filleddataframe1.pkl')\n",
    "# df = pd.concat([df,pd.read_pickle('./filleddataframe2.pkl')],axis=0)\n",
    "# df = pd.concat([df,pd.read_pickle('./filleddataframe3.pkl')],axis=0)\n",
    "# df = pd.concat([df,pd.read_pickle('./filleddataframe4.pkl')],axis=0)\n",
    "# df = pd.concat([df,pd.read_pickle('./filleddataframe5.pkl')],axis=0)\n",
    "# df = pd.concat([df,pd.read_pickle('./filleddataframe6.pkl')],axis=0)\n",
    "# df = pd.concat([df,pd.read_pickle('./filleddataframe7.pkl')],axis=0)\n",
    "# df = pd.concat([df,pd.read_pickle('./filleddataframe8.pkl')],axis=0)\n",
    "# df = pd.concat([df,pd.read_pickle('./filleddataframe9.pkl')],axis=0)\n",
    "# df = pd.concat([df,pd.read_pickle('./filleddataframe10.pkl')],axis=0)\n",
    "\n",
    "df = pd.read_pickle('./complete_df.pkl')\n"
   ]
  },
  {
   "cell_type": "code",
   "execution_count": 3,
   "metadata": {},
   "outputs": [
    {
     "name": "stdout",
     "output_type": "stream",
     "text": [
      "<class 'pandas.core.frame.DataFrame'>\n",
      "Int64Index: 30314 entries, 83086 to 169760\n",
      "Data columns (total 14 columns):\n",
      " #   Column             Non-Null Count  Dtype         \n",
      "---  ------             --------------  -----         \n",
      " 0   chart_position     30314 non-null  int32         \n",
      " 1   chart_date         30314 non-null  datetime64[ns]\n",
      " 2   song               30314 non-null  object        \n",
      " 3   performer          30314 non-null  object        \n",
      " 4   song_id            30314 non-null  object        \n",
      " 5   instance           30314 non-null  int32         \n",
      " 6   time_on_chart      30314 non-null  int32         \n",
      " 7   consecutive_weeks  30314 non-null  int32         \n",
      " 8   previous_week      30314 non-null  int32         \n",
      " 9   peak_position      30314 non-null  int32         \n",
      " 10  worst_position     30314 non-null  int32         \n",
      " 11  chart_debut        30314 non-null  datetime64[ns]\n",
      " 12  chart_url          30314 non-null  object        \n",
      " 13  lyrics             20870 non-null  object        \n",
      "dtypes: datetime64[ns](2), int32(7), object(5)\n",
      "memory usage: 2.7+ MB\n",
      "<class 'pandas.core.frame.DataFrame'>\n",
      "Int64Index: 20870 entries, 83086 to 182527\n",
      "Data columns (total 14 columns):\n",
      " #   Column             Non-Null Count  Dtype         \n",
      "---  ------             --------------  -----         \n",
      " 0   chart_position     20870 non-null  int32         \n",
      " 1   chart_date         20870 non-null  datetime64[ns]\n",
      " 2   song               20870 non-null  object        \n",
      " 3   performer          20870 non-null  object        \n",
      " 4   song_id            20870 non-null  object        \n",
      " 5   instance           20870 non-null  int32         \n",
      " 6   time_on_chart      20870 non-null  int32         \n",
      " 7   consecutive_weeks  20870 non-null  int32         \n",
      " 8   previous_week      20870 non-null  int32         \n",
      " 9   peak_position      20870 non-null  int32         \n",
      " 10  worst_position     20870 non-null  int32         \n",
      " 11  chart_debut        20870 non-null  datetime64[ns]\n",
      " 12  chart_url          20870 non-null  object        \n",
      " 13  lyrics             20870 non-null  object        \n",
      "dtypes: datetime64[ns](2), int32(7), object(5)\n",
      "memory usage: 1.8+ MB\n"
     ]
    }
   ],
   "source": [
    "df.info()\n",
    "df = df.dropna()\n",
    "df.info()"
   ]
  },
  {
   "cell_type": "code",
   "execution_count": 4,
   "metadata": {},
   "outputs": [],
   "source": [
    "df = pd.concat([df,pd.read_pickle('./2ndpassdataframe.pkl')],axis=0)\n",
    "import nltk\n",
    "import re"
   ]
  },
  {
   "cell_type": "code",
   "execution_count": 5,
   "metadata": {},
   "outputs": [
    {
     "name": "stderr",
     "output_type": "stream",
     "text": [
      "[nltk_data] Downloading package punkt to\n",
      "[nltk_data]     C:\\Users\\kapta\\AppData\\Roaming\\nltk_data...\n",
      "[nltk_data]   Package punkt is already up-to-date!\n"
     ]
    }
   ],
   "source": [
    "nltk.download('punkt')\n",
    "from nltk.tokenize import word_tokenize # nltk's gold standard word tokenizer\n",
    "from nltk.tokenize import sent_tokenize # nltk's sentence tokenizer\n",
    "from nltk.corpus import stopwords\n",
    "stop_words = stopwords.words('english')\n"
   ]
  },
  {
   "cell_type": "code",
   "execution_count": 6,
   "metadata": {},
   "outputs": [],
   "source": [
    "def first_step_normalizer(doc):\n",
    "    # filters for alphabetic (no punctuation or numbers) and filters out stop words. \n",
    "    # lower cases all tokens\n",
    "    norm_text = [x.lower() for x in word_tokenize(doc) if ((x.isalpha()) & (x.lower() not in stop_words)) ]\n",
    "    return norm_text"
   ]
  },
  {
   "cell_type": "code",
   "execution_count": 7,
   "metadata": {},
   "outputs": [
    {
     "name": "stdout",
     "output_type": "stream",
     "text": [
      "<class 'pandas.core.frame.DataFrame'>\n",
      "Int64Index: 20952 entries, 83086 to 9163\n",
      "Data columns (total 14 columns):\n",
      " #   Column             Non-Null Count  Dtype         \n",
      "---  ------             --------------  -----         \n",
      " 0   chart_position     20952 non-null  int32         \n",
      " 1   chart_date         20952 non-null  datetime64[ns]\n",
      " 2   song               20952 non-null  object        \n",
      " 3   performer          20952 non-null  object        \n",
      " 4   song_id            20952 non-null  object        \n",
      " 5   instance           20952 non-null  int32         \n",
      " 6   time_on_chart      20952 non-null  int32         \n",
      " 7   consecutive_weeks  20952 non-null  int32         \n",
      " 8   previous_week      20952 non-null  int32         \n",
      " 9   peak_position      20952 non-null  int32         \n",
      " 10  worst_position     20952 non-null  int32         \n",
      " 11  chart_debut        20952 non-null  datetime64[ns]\n",
      " 12  chart_url          20952 non-null  object        \n",
      " 13  lyrics             20952 non-null  object        \n",
      "dtypes: datetime64[ns](2), int32(7), object(5)\n",
      "memory usage: 1.8+ MB\n"
     ]
    }
   ],
   "source": [
    "df.info()"
   ]
  },
  {
   "cell_type": "code",
   "execution_count": 8,
   "metadata": {},
   "outputs": [],
   "source": [
    "df.dropna(inplace=True)"
   ]
  },
  {
   "cell_type": "code",
   "execution_count": 9,
   "metadata": {},
   "outputs": [],
   "source": [
    "def remove_tail(text):\n",
    "    rem = 'You might also likeEmbed'\n",
    "    ind = -len(rem)\n",
    "    if text[ind:] == rem:\n",
    "        return(text[:ind])\n",
    "    else:\n",
    "        reg = 'You might also like.Embed'\n",
    "        ind_reg = -len(reg)\n",
    "        x=re.search(reg,text[ind_reg:])\n",
    "        if x == None:\n",
    "            return(text)\n",
    "        else:\n",
    "            return(text[:ind_reg])"
   ]
  },
  {
   "cell_type": "code",
   "execution_count": 10,
   "metadata": {},
   "outputs": [],
   "source": [
    "df['lyrics'] = df.lyrics.apply(remove_tail)\n",
    "# df['lyrics'] = df.lyrics.apply(first_step_normalizer)"
   ]
  },
  {
   "cell_type": "code",
   "execution_count": 11,
   "metadata": {},
   "outputs": [],
   "source": [
    "text = df.iloc[0].lyrics"
   ]
  },
  {
   "cell_type": "code",
   "execution_count": 12,
   "metadata": {},
   "outputs": [],
   "source": [
    "from textblob import TextBlob\n",
    "def get_sentiment(text):\n",
    "    return(TextBlob(text).sentiment.polarity)"
   ]
  },
  {
   "cell_type": "code",
   "execution_count": 13,
   "metadata": {},
   "outputs": [],
   "source": [
    "df['sentiment'] = df.lyrics.apply(get_sentiment)"
   ]
  },
  {
   "cell_type": "code",
   "execution_count": null,
   "metadata": {},
   "outputs": [],
   "source": [
    "df.to_pickle('./NLP_df.pkl')"
   ]
  },
  {
   "cell_type": "code",
   "execution_count": null,
   "metadata": {},
   "outputs": [],
   "source": []
  }
 ],
 "metadata": {
  "kernelspec": {
   "display_name": "Python 3.9.12 ('base')",
   "language": "python",
   "name": "python3"
  },
  "language_info": {
   "codemirror_mode": {
    "name": "ipython",
    "version": 3
   },
   "file_extension": ".py",
   "mimetype": "text/x-python",
   "name": "python",
   "nbconvert_exporter": "python",
   "pygments_lexer": "ipython3",
   "version": "3.9.12"
  },
  "orig_nbformat": 4,
  "vscode": {
   "interpreter": {
    "hash": "3f0653bd30555679cc60e5853b2204587bc8607f0666d413a468e937b04317b4"
   }
  }
 },
 "nbformat": 4,
 "nbformat_minor": 2
}
