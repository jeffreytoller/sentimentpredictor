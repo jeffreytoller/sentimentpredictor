{
 "cells": [
  {
   "cell_type": "code",
   "execution_count": 163,
   "metadata": {},
   "outputs": [],
   "source": [
    "import pandas as pd\n",
    "import os\n",
    "import pickle\n",
    "import numpy as np\n",
    "from bs4 import BeautifulSoup\n",
    "import requests\n",
    "df = pd.read_pickle('./dataframe4500-6000.pkl')\n",
    "iter=4"
   ]
  },
  {
   "cell_type": "code",
   "execution_count": 164,
   "metadata": {},
   "outputs": [
    {
     "name": "stderr",
     "output_type": "stream",
     "text": [
      "C:\\Users\\kapta\\AppData\\Local\\Temp\\ipykernel_22780\\910358363.py:2: FutureWarning: The default value of regex will change from True to False in a future version.\n",
      "  missing_df['performer'] = missing_df.performer.str.replace('\\s+','-')\n",
      "C:\\Users\\kapta\\AppData\\Local\\Temp\\ipykernel_22780\\910358363.py:2: SettingWithCopyWarning: \n",
      "A value is trying to be set on a copy of a slice from a DataFrame.\n",
      "Try using .loc[row_indexer,col_indexer] = value instead\n",
      "\n",
      "See the caveats in the documentation: https://pandas.pydata.org/pandas-docs/stable/user_guide/indexing.html#returning-a-view-versus-a-copy\n",
      "  missing_df['performer'] = missing_df.performer.str.replace('\\s+','-')\n",
      "C:\\Users\\kapta\\AppData\\Local\\Temp\\ipykernel_22780\\910358363.py:3: FutureWarning: The default value of regex will change from True to False in a future version.\n",
      "  missing_df['song'] = missing_df.song.str.replace('\\s+','-')\n",
      "C:\\Users\\kapta\\AppData\\Local\\Temp\\ipykernel_22780\\910358363.py:3: SettingWithCopyWarning: \n",
      "A value is trying to be set on a copy of a slice from a DataFrame.\n",
      "Try using .loc[row_indexer,col_indexer] = value instead\n",
      "\n",
      "See the caveats in the documentation: https://pandas.pydata.org/pandas-docs/stable/user_guide/indexing.html#returning-a-view-versus-a-copy\n",
      "  missing_df['song'] = missing_df.song.str.replace('\\s+','-')\n"
     ]
    }
   ],
   "source": [
    "missing_df = df.loc[df.lyrics.isna()]\n",
    "missing_df['performer'] = missing_df.performer.str.replace('\\s+','-')\n",
    "missing_df['song'] = missing_df.song.str.replace('\\s+','-')"
   ]
  },
  {
   "cell_type": "code",
   "execution_count": 165,
   "metadata": {},
   "outputs": [],
   "source": [
    "def get_missing(row):\n",
    "    url = 'https://www.songlyrics.com/'+row.performer.lower()+'/'+row.song.lower()+'-lyrics/'\n",
    "    r = requests.get(url)\n",
    "    soup = BeautifulSoup(r.text, 'html.parser')\n",
    "    try:\n",
    "        ans=soup.find_all( id=\"songLyricsDiv\")[0].text\n",
    "    except:\n",
    "        return(float('nan'))\n",
    "    else:\n",
    "        if len(ans) > 300:\n",
    "            return(soup.find_all( id=\"songLyricsDiv\")[0].text)\n",
    "        else:\n",
    "            return(float('nan'))"
   ]
  },
  {
   "cell_type": "code",
   "execution_count": 166,
   "metadata": {},
   "outputs": [
    {
     "name": "stderr",
     "output_type": "stream",
     "text": [
      "C:\\Users\\kapta\\AppData\\Local\\Temp\\ipykernel_22780\\1760612930.py:1: SettingWithCopyWarning: \n",
      "A value is trying to be set on a copy of a slice from a DataFrame.\n",
      "Try using .loc[row_indexer,col_indexer] = value instead\n",
      "\n",
      "See the caveats in the documentation: https://pandas.pydata.org/pandas-docs/stable/user_guide/indexing.html#returning-a-view-versus-a-copy\n",
      "  missing_df['lyrics'] = missing_df.apply(get_missing,axis=1)\n"
     ]
    }
   ],
   "source": [
    "missing_df['lyrics'] = missing_df.apply(get_missing,axis=1)"
   ]
  },
  {
   "cell_type": "code",
   "execution_count": 167,
   "metadata": {},
   "outputs": [],
   "source": [
    "filled_df = pd.concat([df.dropna(subset='lyrics'),missing_df],axis=0)\n",
    "filled_df.to_pickle('./filleddataframe'+str(iter)+'.pkl')\n"
   ]
  }
 ],
 "metadata": {
  "kernelspec": {
   "display_name": "Python 3.9.12 ('base')",
   "language": "python",
   "name": "python3"
  },
  "language_info": {
   "codemirror_mode": {
    "name": "ipython",
    "version": 3
   },
   "file_extension": ".py",
   "mimetype": "text/x-python",
   "name": "python",
   "nbconvert_exporter": "python",
   "pygments_lexer": "ipython3",
   "version": "3.9.12"
  },
  "orig_nbformat": 4,
  "vscode": {
   "interpreter": {
    "hash": "3f0653bd30555679cc60e5853b2204587bc8607f0666d413a468e937b04317b4"
   }
  }
 },
 "nbformat": 4,
 "nbformat_minor": 2
}
