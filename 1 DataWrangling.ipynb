{
 "cells": [
  {
   "cell_type": "markdown",
   "metadata": {},
   "source": [
    "# Data Wrangling\n",
    "## Imports"
   ]
  },
  {
   "cell_type": "code",
   "execution_count": 1,
   "metadata": {},
   "outputs": [],
   "source": [
    "import pandas as pd\n",
    "from dotenv import load_dotenv\n",
    "import os\n",
    "from lyricsgenius import Genius"
   ]
  },
  {
   "cell_type": "markdown",
   "metadata": {},
   "source": [
    "## Genius API environment"
   ]
  },
  {
   "cell_type": "code",
   "execution_count": 2,
   "metadata": {},
   "outputs": [],
   "source": [
    "load_dotenv()\n",
    "API_KEY = os.getenv(\"API_KEY\")\n",
    "genius = Genius(API_KEY)\n",
    "genius.remove_section_headers = True\n"
   ]
  },
  {
   "cell_type": "markdown",
   "metadata": {},
   "source": [
    "## Read in the Hot 100 billboard song data"
   ]
  },
  {
   "cell_type": "code",
   "execution_count": 4,
   "metadata": {},
   "outputs": [],
   "source": [
    "df = pd.read_csv('./data/Hot 100.csv')"
   ]
  },
  {
   "cell_type": "markdown",
   "metadata": {},
   "source": [
    "## Data Cleaning\n",
    "\n",
    "Make sure dates are being read as datetimes"
   ]
  },
  {
   "cell_type": "code",
   "execution_count": 5,
   "metadata": {},
   "outputs": [],
   "source": [
    "df['chart_date'] = pd.to_datetime(df.chart_date)\n",
    "df['chart_debut'] = pd.to_datetime(df.chart_debut)"
   ]
  },
  {
   "cell_type": "code",
   "execution_count": 6,
   "metadata": {},
   "outputs": [],
   "source": [
    "df['consecutive_weeks'].fillna(value=0,inplace=True)\n",
    "df['previous_week'].fillna(value=0,inplace=True)"
   ]
  },
  {
   "cell_type": "markdown",
   "metadata": {},
   "source": [
    "Make sure whole numbers are being saved as integers"
   ]
  },
  {
   "cell_type": "code",
   "execution_count": 7,
   "metadata": {},
   "outputs": [],
   "source": [
    "frame = pd.DataFrame(df.dtypes)\n",
    "numericals = list(frame.loc[frame.iloc[:,0]=='float64'].iloc[:,0].keys())\n",
    "numericals = numericals + list(frame.loc[frame.iloc[:,0]=='int64'].iloc[:,0].keys())\n",
    "for x in numericals:\n",
    "    df[x] = df[x].astype('int32')"
   ]
  },
  {
   "cell_type": "code",
   "execution_count": 8,
   "metadata": {},
   "outputs": [],
   "source": [
    "df.sort_values(by='chart_date',inplace=True)"
   ]
  },
  {
   "cell_type": "code",
   "execution_count": 9,
   "metadata": {},
   "outputs": [
    {
     "name": "stdout",
     "output_type": "stream",
     "text": [
      "<class 'pandas.core.frame.DataFrame'>\n",
      "Int64Index: 335195 entries, 100546 to 79691\n",
      "Data columns (total 13 columns):\n",
      " #   Column             Non-Null Count   Dtype         \n",
      "---  ------             --------------   -----         \n",
      " 0   chart_position     335195 non-null  int32         \n",
      " 1   chart_date         335195 non-null  datetime64[ns]\n",
      " 2   song               335195 non-null  object        \n",
      " 3   performer          335195 non-null  object        \n",
      " 4   song_id            335195 non-null  object        \n",
      " 5   instance           335195 non-null  int32         \n",
      " 6   time_on_chart      335195 non-null  int32         \n",
      " 7   consecutive_weeks  335195 non-null  int32         \n",
      " 8   previous_week      335195 non-null  int32         \n",
      " 9   peak_position      335195 non-null  int32         \n",
      " 10  worst_position     335195 non-null  int32         \n",
      " 11  chart_debut        335195 non-null  datetime64[ns]\n",
      " 12  chart_url          335195 non-null  object        \n",
      "dtypes: datetime64[ns](2), int32(7), object(4)\n",
      "memory usage: 26.9+ MB\n"
     ]
    }
   ],
   "source": [
    "df.info()"
   ]
  },
  {
   "cell_type": "markdown",
   "metadata": {},
   "source": [
    "## Create dataframe with unique songs"
   ]
  },
  {
   "cell_type": "code",
   "execution_count": 10,
   "metadata": {},
   "outputs": [],
   "source": [
    "\n",
    "unique_df = df.drop_duplicates(subset=['song_id'])"
   ]
  },
  {
   "cell_type": "code",
   "execution_count": 11,
   "metadata": {},
   "outputs": [
    {
     "name": "stdout",
     "output_type": "stream",
     "text": [
      "<class 'pandas.core.frame.DataFrame'>\n",
      "Int64Index: 30314 entries, 100546 to 305276\n",
      "Data columns (total 13 columns):\n",
      " #   Column             Non-Null Count  Dtype         \n",
      "---  ------             --------------  -----         \n",
      " 0   chart_position     30314 non-null  int32         \n",
      " 1   chart_date         30314 non-null  datetime64[ns]\n",
      " 2   song               30314 non-null  object        \n",
      " 3   performer          30314 non-null  object        \n",
      " 4   song_id            30314 non-null  object        \n",
      " 5   instance           30314 non-null  int32         \n",
      " 6   time_on_chart      30314 non-null  int32         \n",
      " 7   consecutive_weeks  30314 non-null  int32         \n",
      " 8   previous_week      30314 non-null  int32         \n",
      " 9   peak_position      30314 non-null  int32         \n",
      " 10  worst_position     30314 non-null  int32         \n",
      " 11  chart_debut        30314 non-null  datetime64[ns]\n",
      " 12  chart_url          30314 non-null  object        \n",
      "dtypes: datetime64[ns](2), int32(7), object(4)\n",
      "memory usage: 2.4+ MB\n"
     ]
    }
   ],
   "source": [
    "unique_df.info()"
   ]
  },
  {
   "cell_type": "markdown",
   "metadata": {},
   "source": [
    "## Define Function for API calls to Genius"
   ]
  },
  {
   "cell_type": "code",
   "execution_count": 12,
   "metadata": {},
   "outputs": [],
   "source": [
    "def get_lyrics_genius(row):\n",
    "    ans = float('nan')\n",
    "    title = row['song']\n",
    "    artist = row['performer']\n",
    "    try:\n",
    "        song = genius.search_song(title, artist=artist)\n",
    "    except:\n",
    "        ans = float('nan')\n",
    "    try:\n",
    "        song.lyrics\n",
    "    except:\n",
    "        ans = float('nan')\n",
    "    else:\n",
    "        if song.lyrics[:len(title)]==title:\n",
    "            ans = song.lyrics[len(title)+len(' lyrics'):]\n",
    "        else:\n",
    "            ans = float('nan')\n",
    "    return(ans)\n"
   ]
  },
  {
   "cell_type": "markdown",
   "metadata": {},
   "source": [
    "## Define how much of the dataframe we want to look at"
   ]
  },
  {
   "cell_type": "code",
   "execution_count": 13,
   "metadata": {},
   "outputs": [],
   "source": [
    "start = 1\n",
    "stop = 2\n",
    "subset_df = unique_df.iloc[start:stop]"
   ]
  },
  {
   "cell_type": "markdown",
   "metadata": {},
   "source": [
    "## Run function and save data to the subset of the dataframe"
   ]
  },
  {
   "cell_type": "code",
   "execution_count": 14,
   "metadata": {},
   "outputs": [
    {
     "name": "stdout",
     "output_type": "stream",
     "text": [
      "Searching for \"The Bird On My Head\" by David Seville...\n",
      "Done.\n"
     ]
    },
    {
     "name": "stderr",
     "output_type": "stream",
     "text": [
      "C:\\Users\\kapta\\AppData\\Local\\Temp\\ipykernel_19940\\3462107902.py:1: SettingWithCopyWarning: \n",
      "A value is trying to be set on a copy of a slice from a DataFrame.\n",
      "Try using .loc[row_indexer,col_indexer] = value instead\n",
      "\n",
      "See the caveats in the documentation: https://pandas.pydata.org/pandas-docs/stable/user_guide/indexing.html#returning-a-view-versus-a-copy\n",
      "  subset_df['lyrics'] = subset_df.apply(get_lyrics_genius,axis=1)\n"
     ]
    }
   ],
   "source": [
    "subset_df['lyrics'] = subset_df.apply(get_lyrics_genius,axis=1)"
   ]
  },
  {
   "cell_type": "markdown",
   "metadata": {},
   "source": [
    "## Save data"
   ]
  },
  {
   "cell_type": "code",
   "execution_count": 15,
   "metadata": {},
   "outputs": [],
   "source": [
    "#subset_df.to_pickle('./dataframe'+str(start)+'-'+str(stop)+'.pkl')"
   ]
  },
  {
   "cell_type": "code",
   "execution_count": 16,
   "metadata": {},
   "outputs": [],
   "source": [
    "#first_pass_df = pd.read_pickle('./complete_df.pkl')"
   ]
  }
 ],
 "metadata": {
  "kernelspec": {
   "display_name": "Python 3.9.12 ('base')",
   "language": "python",
   "name": "python3"
  },
  "language_info": {
   "codemirror_mode": {
    "name": "ipython",
    "version": 3
   },
   "file_extension": ".py",
   "mimetype": "text/x-python",
   "name": "python",
   "nbconvert_exporter": "python",
   "pygments_lexer": "ipython3",
   "version": "3.9.12"
  },
  "orig_nbformat": 4,
  "vscode": {
   "interpreter": {
    "hash": "3f0653bd30555679cc60e5853b2204587bc8607f0666d413a468e937b04317b4"
   }
  }
 },
 "nbformat": 4,
 "nbformat_minor": 2
}
