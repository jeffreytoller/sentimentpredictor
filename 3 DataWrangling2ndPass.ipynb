{
 "cells": [
  {
   "cell_type": "markdown",
   "metadata": {},
   "source": [
    "# 2nd pass - trying the Genius API again for missing values"
   ]
  },
  {
   "cell_type": "markdown",
   "metadata": {},
   "source": [
    "## Imports"
   ]
  },
  {
   "cell_type": "code",
   "execution_count": 1,
   "metadata": {},
   "outputs": [],
   "source": [
    "import pandas as pd\n",
    "from dotenv import load_dotenv\n",
    "import os\n",
    "from lyricsgenius import Genius"
   ]
  },
  {
   "cell_type": "markdown",
   "metadata": {},
   "source": [
    "## Genius API environment"
   ]
  },
  {
   "cell_type": "code",
   "execution_count": 2,
   "metadata": {},
   "outputs": [],
   "source": [
    "load_dotenv()\n",
    "API_KEY = os.getenv(\"API_KEY\")\n",
    "genius = Genius(API_KEY)\n",
    "genius.remove_section_headers = True\n"
   ]
  },
  {
   "cell_type": "markdown",
   "metadata": {},
   "source": [
    "## Read in the Hot 100 billboard song data"
   ]
  },
  {
   "cell_type": "code",
   "execution_count": 3,
   "metadata": {},
   "outputs": [],
   "source": [
    "df = pd.read_csv('./data/Hot 100.csv')"
   ]
  },
  {
   "cell_type": "markdown",
   "metadata": {},
   "source": [
    "## Data Cleaning\n",
    "\n",
    "Make sure dates are being read as datetimes"
   ]
  },
  {
   "cell_type": "code",
   "execution_count": 4,
   "metadata": {},
   "outputs": [],
   "source": [
    "df['chart_date'] = pd.to_datetime(df.chart_date)\n",
    "df['chart_debut'] = pd.to_datetime(df.chart_debut)"
   ]
  },
  {
   "cell_type": "code",
   "execution_count": 5,
   "metadata": {},
   "outputs": [],
   "source": [
    "df['consecutive_weeks'].fillna(value=0,inplace=True)\n",
    "df['previous_week'].fillna(value=0,inplace=True)"
   ]
  },
  {
   "cell_type": "markdown",
   "metadata": {},
   "source": [
    "Make sure whole numbers are being saved as integers"
   ]
  },
  {
   "cell_type": "code",
   "execution_count": 6,
   "metadata": {},
   "outputs": [],
   "source": [
    "frame = pd.DataFrame(df.dtypes)\n",
    "numericals = list(frame.loc[frame.iloc[:,0]=='float64'].iloc[:,0].keys())\n",
    "numericals = numericals + list(frame.loc[frame.iloc[:,0]=='int64'].iloc[:,0].keys())\n",
    "for x in numericals:\n",
    "    df[x] = df[x].astype('int32')"
   ]
  },
  {
   "cell_type": "code",
   "execution_count": 7,
   "metadata": {},
   "outputs": [],
   "source": [
    "# df.sort_values(by='chart_date',inplace=True)\n",
    "# df.to_pickle('Hot100')"
   ]
  },
  {
   "cell_type": "code",
   "execution_count": 8,
   "metadata": {},
   "outputs": [
    {
     "name": "stdout",
     "output_type": "stream",
     "text": [
      "<class 'pandas.core.frame.DataFrame'>\n",
      "RangeIndex: 335195 entries, 0 to 335194\n",
      "Data columns (total 13 columns):\n",
      " #   Column             Non-Null Count   Dtype         \n",
      "---  ------             --------------   -----         \n",
      " 0   chart_position     335195 non-null  int32         \n",
      " 1   chart_date         335195 non-null  datetime64[ns]\n",
      " 2   song               335195 non-null  object        \n",
      " 3   performer          335195 non-null  object        \n",
      " 4   song_id            335195 non-null  object        \n",
      " 5   instance           335195 non-null  int32         \n",
      " 6   time_on_chart      335195 non-null  int32         \n",
      " 7   consecutive_weeks  335195 non-null  int32         \n",
      " 8   previous_week      335195 non-null  int32         \n",
      " 9   peak_position      335195 non-null  int32         \n",
      " 10  worst_position     335195 non-null  int32         \n",
      " 11  chart_debut        335195 non-null  datetime64[ns]\n",
      " 12  chart_url          335195 non-null  object        \n",
      "dtypes: datetime64[ns](2), int32(7), object(4)\n",
      "memory usage: 24.3+ MB\n"
     ]
    }
   ],
   "source": [
    "df.info()"
   ]
  },
  {
   "cell_type": "code",
   "execution_count": 9,
   "metadata": {},
   "outputs": [],
   "source": [
    "\n",
    "unique_df = df.drop_duplicates(subset=['song_id'])"
   ]
  },
  {
   "cell_type": "markdown",
   "metadata": {},
   "source": [
    "## Create dataframe with unique songs\n",
    "\n",
    "Then join with the dataframe showing the missing values"
   ]
  },
  {
   "cell_type": "code",
   "execution_count": 10,
   "metadata": {},
   "outputs": [
    {
     "name": "stdout",
     "output_type": "stream",
     "text": [
      "<class 'pandas.core.frame.DataFrame'>\n",
      "Int64Index: 9444 entries, 0 to 9443\n",
      "Data columns (total 26 columns):\n",
      " #   Column               Non-Null Count  Dtype         \n",
      "---  ------               --------------  -----         \n",
      " 0   chart_position_x     9444 non-null   int32         \n",
      " 1   chart_date_x         9444 non-null   datetime64[ns]\n",
      " 2   song_x               9444 non-null   object        \n",
      " 3   performer_x          9444 non-null   object        \n",
      " 4   song_id              9444 non-null   object        \n",
      " 5   instance_x           9444 non-null   int32         \n",
      " 6   time_on_chart_x      9444 non-null   int32         \n",
      " 7   consecutive_weeks_x  9444 non-null   int32         \n",
      " 8   previous_week_x      9444 non-null   int32         \n",
      " 9   peak_position_x      9444 non-null   int32         \n",
      " 10  worst_position_x     9444 non-null   int32         \n",
      " 11  chart_debut_x        9444 non-null   datetime64[ns]\n",
      " 12  chart_url_x          9444 non-null   object        \n",
      " 13  lyrics               0 non-null      object        \n",
      " 14  chart_position_y     9444 non-null   int32         \n",
      " 15  chart_date_y         9444 non-null   datetime64[ns]\n",
      " 16  song_y               9444 non-null   object        \n",
      " 17  performer_y          9444 non-null   object        \n",
      " 18  instance_y           9444 non-null   int32         \n",
      " 19  time_on_chart_y      9444 non-null   int32         \n",
      " 20  consecutive_weeks_y  9444 non-null   int32         \n",
      " 21  previous_week_y      9444 non-null   int32         \n",
      " 22  peak_position_y      9444 non-null   int32         \n",
      " 23  worst_position_y     9444 non-null   int32         \n",
      " 24  chart_debut_y        9444 non-null   datetime64[ns]\n",
      " 25  chart_url_y          9444 non-null   object        \n",
      "dtypes: datetime64[ns](4), int32(14), object(8)\n",
      "memory usage: 1.4+ MB\n"
     ]
    }
   ],
   "source": [
    "first_pass_df = pd.read_pickle('./complete_df.pkl')\n",
    "missing_df = first_pass_df.loc[first_pass_df.lyrics.isna()]\n",
    "missing_df = missing_df.merge(unique_df,how='left',on='song_id')\n",
    "missing_df.info()"
   ]
  },
  {
   "cell_type": "code",
   "execution_count": 11,
   "metadata": {},
   "outputs": [
    {
     "data": {
      "text/plain": [
       "Index(['chart_position', 'chart_date', 'song', 'performer', 'song_id',\n",
       "       'instance', 'time_on_chart', 'consecutive_weeks', 'previous_week',\n",
       "       'peak_position', 'worst_position', 'chart_debut', 'chart_url'],\n",
       "      dtype='object')"
      ]
     },
     "execution_count": 11,
     "metadata": {},
     "output_type": "execute_result"
    }
   ],
   "source": [
    "unique_df.columns"
   ]
  },
  {
   "cell_type": "markdown",
   "metadata": {},
   "source": [
    "Create empty Dataframe"
   ]
  },
  {
   "cell_type": "code",
   "execution_count": 12,
   "metadata": {},
   "outputs": [],
   "source": [
    "fill_df = pd.DataFrame()"
   ]
  },
  {
   "cell_type": "markdown",
   "metadata": {},
   "source": [
    "Make sure joined dataframe has correct column names (from the correct join table!)"
   ]
  },
  {
   "cell_type": "code",
   "execution_count": 13,
   "metadata": {},
   "outputs": [
    {
     "name": "stdout",
     "output_type": "stream",
     "text": [
      "<class 'pandas.core.frame.DataFrame'>\n",
      "Int64Index: 9444 entries, 0 to 9443\n",
      "Data columns (total 14 columns):\n",
      " #   Column             Non-Null Count  Dtype         \n",
      "---  ------             --------------  -----         \n",
      " 0   chart_position     9444 non-null   int32         \n",
      " 1   chart_date         9444 non-null   datetime64[ns]\n",
      " 2   song               9444 non-null   object        \n",
      " 3   performer          9444 non-null   object        \n",
      " 4   song_id            9444 non-null   object        \n",
      " 5   instance           9444 non-null   int32         \n",
      " 6   time_on_chart      9444 non-null   int32         \n",
      " 7   consecutive_weeks  9444 non-null   int32         \n",
      " 8   previous_week      9444 non-null   int32         \n",
      " 9   peak_position      9444 non-null   int32         \n",
      " 10  worst_position     9444 non-null   int32         \n",
      " 11  chart_debut        9444 non-null   datetime64[ns]\n",
      " 12  chart_url          9444 non-null   object        \n",
      " 13  lyrics             0 non-null      object        \n",
      "dtypes: datetime64[ns](2), int32(7), object(5)\n",
      "memory usage: 848.5+ KB\n"
     ]
    }
   ],
   "source": [
    "fill_df['chart_position'] = missing_df['chart_position_y']\n",
    "fill_df['chart_date'] = missing_df['chart_date_y']\n",
    "fill_df['song'] = missing_df['song_y']\n",
    "fill_df['performer'] = missing_df['performer_y']\n",
    "fill_df['song_id'] = missing_df['song_id']\n",
    "fill_df['instance'] = missing_df['instance_y']\n",
    "fill_df['time_on_chart'] = missing_df['time_on_chart_y']\n",
    "fill_df['consecutive_weeks'] = missing_df['consecutive_weeks_y']\n",
    "fill_df['previous_week'] = missing_df['previous_week_y']\n",
    "fill_df['peak_position'] = missing_df['peak_position_y']\n",
    "fill_df['worst_position'] = missing_df['worst_position_y']\n",
    "fill_df['chart_debut'] = missing_df['chart_debut_y']\n",
    "fill_df['chart_url'] = missing_df['chart_url_y']\n",
    "fill_df['lyrics'] = missing_df['lyrics']\n",
    "fill_df.info()"
   ]
  },
  {
   "cell_type": "markdown",
   "metadata": {},
   "source": [
    "## Define Function for API calls to Genius"
   ]
  },
  {
   "cell_type": "code",
   "execution_count": 14,
   "metadata": {},
   "outputs": [],
   "source": [
    "def get_lyrics_genius(row):\n",
    "    ans = float('nan')\n",
    "    title = row['song']\n",
    "    artist = row['performer']\n",
    "    try:\n",
    "        song = genius.search_song(title, artist=artist)\n",
    "    except:\n",
    "        ans = float('nan')\n",
    "    try:\n",
    "        song.lyrics\n",
    "    except:\n",
    "        ans = float('nan')\n",
    "    else:\n",
    "        if song.lyrics[:len(title)]==title:\n",
    "            ans = song.lyrics[len(title)+len(' lyrics'):]\n",
    "        else:\n",
    "            ans = float('nan')\n",
    "    return(ans)\n"
   ]
  },
  {
   "cell_type": "markdown",
   "metadata": {},
   "source": [
    "## Run function and save data to the subset of the dataframe\n",
    "\n",
    "This only applies to rows that don't already have lyrics!"
   ]
  },
  {
   "cell_type": "code",
   "execution_count": 15,
   "metadata": {},
   "outputs": [
    {
     "name": "stdout",
     "output_type": "stream",
     "text": [
      "Searching for \"Betty Lou Got A New Pair Of Shoes\" by Bobby Freeman...\n",
      "Done.\n",
      "Searching for \"Nel Blu Dipinto Di Blu (Volaré)\" by Domenico Modugno...\n",
      "Done.\n",
      "Searching for \"All I Have To Do Is Dream\" by The Everly Brothers...\n",
      "Searching for \"Guess Things Happen That Way\" by Johnny Cash And The Tennessee Two...\n",
      "Done.\n",
      "Searching for \"Let's Go Steady For The Summer\" by The Three G's...\n",
      "Done.\n",
      "Searching for \"Happy Years\" by The Diamonds...\n",
      "Done.\n",
      "Searching for \"The Freeze\" by Tony And Joe...\n",
      "Done.\n",
      "Searching for \"Patricia\" by Perez Prado And His Orchestra...\n",
      "No results found for: 'Patricia Perez Prado And His Orchestra'\n",
      "Searching for \"Got A Match?\" by Frank Gallup...\n",
      "Done.\n",
      "Searching for \"Got A Match?\" by The Daddy-O's...\n",
      "Done.\n",
      "Searching for \"Over And Over\" by Thurston Harris...\n",
      "Done.\n",
      "Searching for \"Op\" by The Honeycones...\n",
      "Done.\n",
      "Searching for \"Rebel-'rouser\" by Duane Eddy His Twangy Guitar And The Rebels...\n",
      "No results found for: 'Rebel-'rouser Duane Eddy His Twangy Guitar And The Rebels'\n",
      "Searching for \"I'll Get By (As Long As I Have You)\" by Billy Williams...\n",
      "Done.\n",
      "Searching for \"Hard Headed Woman\" by Elvis Presley With The Jordanaires...\n",
      "No results found for: 'Hard Headed Woman Elvis Presley With The Jordanaires'\n",
      "Searching for \"Don't Ask Me Why\" by Elvis Presley With The Jordanaires...\n",
      "No results found for: 'Don't Ask Me Why Elvis Presley With The Jordanaires'\n",
      "Searching for \"Blip Blop\" by Bill Doggett...\n",
      "No results found for: 'Blip Blop Bill Doggett'\n",
      "Searching for \"By The Light Of The Silvery Moon\" by Jimmy Bowen with the Rhythm Orchids...\n",
      "Done.\n",
      "Searching for \"Stay\" by The Ames Brothers...\n",
      "Done.\n",
      "Searching for \"Hey Girl - Hey Boy\" by Oscar McLollie and Jeanette Baker...\n",
      "No results found for: 'Hey Girl - Hey Boy Oscar McLollie and Jeanette Baker'\n",
      "Searching for \"Somebody Touched Me\" by Buddy Knox with the Rhythm Orchids...\n",
      "No results found for: 'Somebody Touched Me Buddy Knox with the Rhythm Orchids'\n",
      "Searching for \"Tears On My Pillow\" by Little Anthony And The Imperials...\n"
     ]
    }
   ],
   "source": [
    "fill_df['lyrics'] = fill_df.apply(get_lyrics_genius,axis=1)"
   ]
  },
  {
   "cell_type": "markdown",
   "metadata": {},
   "source": [
    "Separate lyrics into two dataframes for possible third pass"
   ]
  },
  {
   "cell_type": "code",
   "execution_count": null,
   "metadata": {},
   "outputs": [],
   "source": [
    "done_df = fill_df.loc[fill_df.lyrics.notna()]\n",
    "not_done_df = fill_df.loc[fill_df.lyrics.isna()]"
   ]
  },
  {
   "cell_type": "code",
   "execution_count": null,
   "metadata": {},
   "outputs": [],
   "source": [
    "done_df.info()"
   ]
  },
  {
   "cell_type": "code",
   "execution_count": null,
   "metadata": {},
   "outputs": [],
   "source": [
    "not_done_df.info()"
   ]
  },
  {
   "cell_type": "markdown",
   "metadata": {},
   "source": [
    "Save dataframes to separate pickles"
   ]
  },
  {
   "cell_type": "code",
   "execution_count": null,
   "metadata": {},
   "outputs": [],
   "source": [
    "#done_df.to_pickle('./2ndpassdataframe.pkl')"
   ]
  },
  {
   "cell_type": "code",
   "execution_count": null,
   "metadata": {},
   "outputs": [],
   "source": [
    "#not_done_df.to_pickle('./3rdpassdataframe.pkl')"
   ]
  }
 ],
 "metadata": {
  "kernelspec": {
   "display_name": "Python 3.9.12 ('base')",
   "language": "python",
   "name": "python3"
  },
  "language_info": {
   "codemirror_mode": {
    "name": "ipython",
    "version": 3
   },
   "file_extension": ".py",
   "mimetype": "text/x-python",
   "name": "python",
   "nbconvert_exporter": "python",
   "pygments_lexer": "ipython3",
   "version": "3.9.12"
  },
  "orig_nbformat": 4,
  "vscode": {
   "interpreter": {
    "hash": "3f0653bd30555679cc60e5853b2204587bc8607f0666d413a468e937b04317b4"
   }
  }
 },
 "nbformat": 4,
 "nbformat_minor": 2
}
