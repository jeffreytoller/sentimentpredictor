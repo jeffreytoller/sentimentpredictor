{
 "cells": [
  {
   "cell_type": "code",
   "execution_count": null,
   "metadata": {},
   "outputs": [],
   "source": [
    "import pandas as pd\n",
    "from dotenv import load_dotenv\n",
    "import os\n",
    "from lyricsgenius import Genius"
   ]
  },
  {
   "cell_type": "code",
   "execution_count": null,
   "metadata": {},
   "outputs": [],
   "source": [
    "load_dotenv()\n",
    "API_KEY = os.getenv(\"API_KEY\")\n",
    "genius = Genius(API_KEY)\n",
    "genius.remove_section_headers = True\n"
   ]
  },
  {
   "cell_type": "code",
   "execution_count": null,
   "metadata": {},
   "outputs": [],
   "source": [
    "df = pd.read_csv('Hot 100.csv')"
   ]
  },
  {
   "cell_type": "code",
   "execution_count": null,
   "metadata": {},
   "outputs": [],
   "source": [
    "df['chart_date'] = pd.to_datetime(df.chart_date)\n",
    "df['chart_debut'] = pd.to_datetime(df.chart_debut)"
   ]
  },
  {
   "cell_type": "code",
   "execution_count": null,
   "metadata": {},
   "outputs": [],
   "source": [
    "df['consecutive_weeks'].fillna(value=0,inplace=True)\n",
    "df['previous_week'].fillna(value=0,inplace=True)"
   ]
  },
  {
   "cell_type": "code",
   "execution_count": null,
   "metadata": {},
   "outputs": [],
   "source": [
    "frame = pd.DataFrame(df.dtypes)\n",
    "numericals = list(frame.loc[frame.iloc[:,0]=='float64'].iloc[:,0].keys())\n",
    "numericals = numericals + list(frame.loc[frame.iloc[:,0]=='int64'].iloc[:,0].keys())\n",
    "for x in numericals:\n",
    "    df[x] = df[x].astype('int32')"
   ]
  },
  {
   "cell_type": "code",
   "execution_count": null,
   "metadata": {},
   "outputs": [],
   "source": [
    "df.sort_values(by='chart_date',inplace=True)\n",
    "df.to_pickle('Hot100')"
   ]
  },
  {
   "cell_type": "code",
   "execution_count": null,
   "metadata": {},
   "outputs": [],
   "source": [
    "df.info()"
   ]
  },
  {
   "cell_type": "code",
   "execution_count": null,
   "metadata": {},
   "outputs": [],
   "source": [
    "\n",
    "unique_df = df.drop_duplicates(subset=['song_id'])"
   ]
  },
  {
   "cell_type": "code",
   "execution_count": null,
   "metadata": {},
   "outputs": [],
   "source": [
    "first_pass_df = pd.read_pickle('./complete_df.pkl')\n",
    "missing_df = first_pass_df.loc[first_pass_df.lyrics.isna()]\n",
    "missing_df = missing_df.merge(unique_df,how='left',on='song_id')\n",
    "missing_df.info()"
   ]
  },
  {
   "cell_type": "code",
   "execution_count": null,
   "metadata": {},
   "outputs": [],
   "source": [
    "unique_df.columns"
   ]
  },
  {
   "cell_type": "code",
   "execution_count": null,
   "metadata": {},
   "outputs": [],
   "source": [
    "fill_df = pd.DataFrame()"
   ]
  },
  {
   "cell_type": "code",
   "execution_count": null,
   "metadata": {},
   "outputs": [],
   "source": [
    "fill_df['chart_position'] = missing_df['chart_position_y']\n",
    "fill_df['chart_date'] = missing_df['chart_date_y']\n",
    "fill_df['song'] = missing_df['song_y']\n",
    "fill_df['performer'] = missing_df['performer_y']\n",
    "fill_df['song_id'] = missing_df['song_id']\n",
    "fill_df['instance'] = missing_df['instance_y']\n",
    "fill_df['time_on_chart'] = missing_df['time_on_chart_y']\n",
    "fill_df['consecutive_weeks'] = missing_df['consecutive_weeks_y']\n",
    "fill_df['previous_week'] = missing_df['previous_week_y']\n",
    "fill_df['peak_position'] = missing_df['peak_position_y']\n",
    "fill_df['worst_position'] = missing_df['worst_position_y']\n",
    "fill_df['chart_debut'] = missing_df['chart_debut_y']\n",
    "fill_df['chart_url'] = missing_df['chart_url_y']\n",
    "fill_df['lyrics'] = missing_df['lyrics']\n",
    "fill_df.info()"
   ]
  },
  {
   "cell_type": "code",
   "execution_count": null,
   "metadata": {},
   "outputs": [],
   "source": [
    "def get_lyrics_genius(row):\n",
    "    ans = float('nan')\n",
    "    title = row['song']\n",
    "    artist = row['performer']\n",
    "    try:\n",
    "        song = genius.search_song(title, artist=artist)\n",
    "    except:\n",
    "        ans = float('nan')\n",
    "    try:\n",
    "        song.lyrics\n",
    "    except:\n",
    "        ans = float('nan')\n",
    "    else:\n",
    "        if song.lyrics[:len(title)]==title:\n",
    "            ans = song.lyrics[len(title)+len(' lyrics'):]\n",
    "        else:\n",
    "            ans = float('nan')\n",
    "    return(ans)\n"
   ]
  },
  {
   "cell_type": "code",
   "execution_count": null,
   "metadata": {},
   "outputs": [],
   "source": [
    "fill_df['lyrics'] = fill_df.apply(get_lyrics_genius,axis=1)"
   ]
  },
  {
   "cell_type": "code",
   "execution_count": null,
   "metadata": {},
   "outputs": [],
   "source": [
    "done_df = fill_df.loc[fill_df.lyrics.notna()]\n",
    "not_done_df = fill_df.loc[fill_df.lyrics.isna()]"
   ]
  },
  {
   "cell_type": "code",
   "execution_count": null,
   "metadata": {},
   "outputs": [],
   "source": [
    "done_df.info()"
   ]
  },
  {
   "cell_type": "code",
   "execution_count": null,
   "metadata": {},
   "outputs": [],
   "source": [
    "not_done_df.info()"
   ]
  },
  {
   "cell_type": "code",
   "execution_count": null,
   "metadata": {},
   "outputs": [],
   "source": [
    "done_df.to_pickle('./2ndpassdataframe.pkl')"
   ]
  },
  {
   "cell_type": "code",
   "execution_count": null,
   "metadata": {},
   "outputs": [],
   "source": [
    "not_done_df.to_pickle('./3rdpassdataframe.pkl')"
   ]
  },
  {
   "cell_type": "code",
   "execution_count": null,
   "metadata": {},
   "outputs": [],
   "source": []
  }
 ],
 "metadata": {
  "kernelspec": {
   "display_name": "Python 3.9.12 ('base')",
   "language": "python",
   "name": "python3"
  },
  "language_info": {
   "codemirror_mode": {
    "name": "ipython",
    "version": 3
   },
   "file_extension": ".py",
   "mimetype": "text/x-python",
   "name": "python",
   "nbconvert_exporter": "python",
   "pygments_lexer": "ipython3",
   "version": "3.9.12"
  },
  "orig_nbformat": 4,
  "vscode": {
   "interpreter": {
    "hash": "3f0653bd30555679cc60e5853b2204587bc8607f0666d413a468e937b04317b4"
   }
  }
 },
 "nbformat": 4,
 "nbformat_minor": 2
}
